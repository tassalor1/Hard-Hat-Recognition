{
 "cells": [
  {
   "cell_type": "code",
   "execution_count": 18,
   "id": "328c6f62",
   "metadata": {},
   "outputs": [],
   "source": [
    "import pandas as pd\n",
    "import numpy as np\n",
    "import matplotlib.pyplot as plt\n",
    "from sklearn.model_selection import train_test_split\n",
    "import cv2"
   ]
  },
  {
   "cell_type": "code",
   "execution_count": 2,
   "id": "8594e36f",
   "metadata": {},
   "outputs": [],
   "source": [
    "df = pd.read_json('C:\\\\Users\\\\Connor\\\\Desktop\\\\Hard Hat Recongnition\\\\output\\\\hard_hat_data.json')"
   ]
  },
  {
   "cell_type": "code",
   "execution_count": 3,
   "id": "030df939",
   "metadata": {},
   "outputs": [
    {
     "data": {
      "text/html": [
       "<div>\n",
       "<style scoped>\n",
       "    .dataframe tbody tr th:only-of-type {\n",
       "        vertical-align: middle;\n",
       "    }\n",
       "\n",
       "    .dataframe tbody tr th {\n",
       "        vertical-align: top;\n",
       "    }\n",
       "\n",
       "    .dataframe thead th {\n",
       "        text-align: right;\n",
       "    }\n",
       "</style>\n",
       "<table border=\"1\" class=\"dataframe\">\n",
       "  <thead>\n",
       "    <tr style=\"text-align: right;\">\n",
       "      <th></th>\n",
       "      <th>image</th>\n",
       "      <th>annotation</th>\n",
       "    </tr>\n",
       "  </thead>\n",
       "  <tbody>\n",
       "    <tr>\n",
       "      <th>0</th>\n",
       "      <td>C:\\Users\\Connor\\Desktop\\Hard Hat Recongnition\\...</td>\n",
       "      <td>&lt;annotation&gt;\\n    &lt;folder&gt;images&lt;/folder&gt;\\n   ...</td>\n",
       "    </tr>\n",
       "    <tr>\n",
       "      <th>1</th>\n",
       "      <td>C:\\Users\\Connor\\Desktop\\Hard Hat Recongnition\\...</td>\n",
       "      <td>&lt;annotation&gt;\\n    &lt;folder&gt;images&lt;/folder&gt;\\n   ...</td>\n",
       "    </tr>\n",
       "    <tr>\n",
       "      <th>2</th>\n",
       "      <td>C:\\Users\\Connor\\Desktop\\Hard Hat Recongnition\\...</td>\n",
       "      <td>&lt;annotation&gt;\\n    &lt;folder&gt;images&lt;/folder&gt;\\n   ...</td>\n",
       "    </tr>\n",
       "    <tr>\n",
       "      <th>3</th>\n",
       "      <td>C:\\Users\\Connor\\Desktop\\Hard Hat Recongnition\\...</td>\n",
       "      <td>&lt;annotation&gt;\\n    &lt;folder&gt;images&lt;/folder&gt;\\n   ...</td>\n",
       "    </tr>\n",
       "    <tr>\n",
       "      <th>4</th>\n",
       "      <td>C:\\Users\\Connor\\Desktop\\Hard Hat Recongnition\\...</td>\n",
       "      <td>&lt;annotation&gt;\\n    &lt;folder&gt;images&lt;/folder&gt;\\n   ...</td>\n",
       "    </tr>\n",
       "  </tbody>\n",
       "</table>\n",
       "</div>"
      ],
      "text/plain": [
       "                                               image   \n",
       "0  C:\\Users\\Connor\\Desktop\\Hard Hat Recongnition\\...  \\\n",
       "1  C:\\Users\\Connor\\Desktop\\Hard Hat Recongnition\\...   \n",
       "2  C:\\Users\\Connor\\Desktop\\Hard Hat Recongnition\\...   \n",
       "3  C:\\Users\\Connor\\Desktop\\Hard Hat Recongnition\\...   \n",
       "4  C:\\Users\\Connor\\Desktop\\Hard Hat Recongnition\\...   \n",
       "\n",
       "                                          annotation  \n",
       "0  <annotation>\\n    <folder>images</folder>\\n   ...  \n",
       "1  <annotation>\\n    <folder>images</folder>\\n   ...  \n",
       "2  <annotation>\\n    <folder>images</folder>\\n   ...  \n",
       "3  <annotation>\\n    <folder>images</folder>\\n   ...  \n",
       "4  <annotation>\\n    <folder>images</folder>\\n   ...  "
      ]
     },
     "execution_count": 3,
     "metadata": {},
     "output_type": "execute_result"
    }
   ],
   "source": [
    "df.head()"
   ]
  },
  {
   "cell_type": "code",
   "execution_count": 20,
   "id": "deef3c66",
   "metadata": {},
   "outputs": [],
   "source": [
    "# Image resizing\n",
    "def preprocess_image(df, dsize=('224, 224')):\n",
    "    image = cv2.imread(df)\n",
    "    image = cv2.resize(image, dsize)\n",
    "    image = image / 255.0 \n",
    "    \n",
    "    return image"
   ]
  },
  {
   "cell_type": "code",
   "execution_count": null,
   "id": "9c5d9aa6",
   "metadata": {},
   "outputs": [],
   "source": []
  },
  {
   "cell_type": "code",
   "execution_count": 11,
   "id": "22123837",
   "metadata": {},
   "outputs": [],
   "source": [
    "X = df['image']\n",
    "y = df['annotation']"
   ]
  },
  {
   "cell_type": "code",
   "execution_count": 12,
   "id": "e3ab66ca",
   "metadata": {},
   "outputs": [],
   "source": [
    "X_train, X_test, y_train, y_test = train_test_split(X, y, test_size=0.2, random_state=25)"
   ]
  },
  {
   "cell_type": "code",
   "execution_count": 13,
   "id": "e174bca3",
   "metadata": {},
   "outputs": [
    {
     "name": "stdout",
     "output_type": "stream",
     "text": [
      "X_train shape: (4000,)\n",
      "y_train shape: (4000,)\n",
      "X_test shape: (1000,)\n",
      "y_test shape: (1000,)\n"
     ]
    }
   ],
   "source": [
    "print(\"X_train shape:\", X_train.shape)\n",
    "print(\"y_train shape:\", y_train.shape)\n",
    "print(\"X_test shape:\", X_test.shape)\n",
    "print(\"y_test shape:\", y_test.shape)"
   ]
  },
  {
   "cell_type": "code",
   "execution_count": null,
   "id": "102688f1",
   "metadata": {},
   "outputs": [],
   "source": []
  }
 ],
 "metadata": {
  "kernelspec": {
   "display_name": "Python 3 (ipykernel)",
   "language": "python",
   "name": "python3"
  },
  "language_info": {
   "codemirror_mode": {
    "name": "ipython",
    "version": 3
   },
   "file_extension": ".py",
   "mimetype": "text/x-python",
   "name": "python",
   "nbconvert_exporter": "python",
   "pygments_lexer": "ipython3",
   "version": "3.11.1"
  }
 },
 "nbformat": 4,
 "nbformat_minor": 5
}
